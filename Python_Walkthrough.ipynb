{
  "nbformat": 4,
  "nbformat_minor": 0,
  "metadata": {
    "colab": {
      "provenance": []
    },
    "kernelspec": {
      "name": "python3",
      "display_name": "Python 3"
    },
    "language_info": {
      "name": "python"
    }
  },
  "cells": [
    {
      "cell_type": "markdown",
      "source": [
        "## Basics of Python Programming"
      ],
      "metadata": {
        "id": "h0g6WZFXWne7"
      }
    },
    {
      "cell_type": "markdown",
      "source": [
        "### Importing Libraries"
      ],
      "metadata": {
        "id": "bMmRrskEcZ1H"
      }
    },
    {
      "cell_type": "code",
      "source": [
        "import time\n",
        "# for libraries you might not have, install first using pip"
      ],
      "metadata": {
        "id": "ai1Kx7xzcctT"
      },
      "execution_count": null,
      "outputs": []
    },
    {
      "cell_type": "markdown",
      "source": [
        "### Input and Output"
      ],
      "metadata": {
        "id": "OEsBn7jwXkQx"
      }
    },
    {
      "cell_type": "code",
      "source": [
        "print(\"This is BBT 3201\")\n",
        "\n",
        "print(\"Local time:\", time.ctime()) # print current time from time library function ctime()"
      ],
      "metadata": {
        "id": "TbNZIQUYXpbj",
        "colab": {
          "base_uri": "https://localhost:8080/"
        },
        "outputId": "0def4203-4251-498e-93da-b889422b8a28"
      },
      "execution_count": null,
      "outputs": [
        {
          "output_type": "stream",
          "name": "stdout",
          "text": [
            "This is BBT 3201\n",
            "Local time: Thu Aug 29 10:28:13 2024\n"
          ]
        }
      ]
    },
    {
      "cell_type": "code",
      "source": [
        "name = str(input(\"Enter your name: \"))\n",
        "age = int(input(\"Enter your age: \")) # this is typecasting - enforcing a variable to be of a particular data type\n",
        "print(\"Name:\\t\", name)\n",
        "print(\"Age:\\t\", age)"
      ],
      "metadata": {
        "id": "at6osNfBXtL6"
      },
      "execution_count": null,
      "outputs": []
    },
    {
      "cell_type": "markdown",
      "source": [
        "### Conditional Structures"
      ],
      "metadata": {
        "id": "xjoaIuKoYVgP"
      }
    },
    {
      "cell_type": "code",
      "source": [
        "hour = int(input(\"Enter an hour of the day in 24h time: \"))\n",
        "if 6 <= hour < 12:\n",
        "print(\"Good morning!\") # there is an Error in this line: it should only run within this condition and not part of the main code; resolve it before running\n",
        "elif 12 <= hour < 17:\n",
        "  print(\"Good afternoon!\")\n",
        "elif 17 <= hour < 20:\n",
        "  print(\"Good evening!\")\n",
        "else:\n",
        "  print(\"Good night!\")\n"
      ],
      "metadata": {
        "id": "AJlgkr3dYkTA",
        "colab": {
          "base_uri": "https://localhost:8080/",
          "height": 124
        },
        "outputId": "c459c2ae-2dcc-4ca0-c815-518e8757b1a4"
      },
      "execution_count": null,
      "outputs": [
        {
          "output_type": "error",
          "ename": "IndentationError",
          "evalue": "expected an indented block after 'if' statement on line 2 (ipython-input-1551124610.py, line 3)",
          "traceback": [
            "\u001b[0;36m  File \u001b[0;32m\"/tmp/ipython-input-1551124610.py\"\u001b[0;36m, line \u001b[0;32m3\u001b[0m\n\u001b[0;31m    print(\"Good morning!\") # notice where the space of this from the start of the line before. this indicates that this line should only run within this condition\u001b[0m\n\u001b[0m    ^\u001b[0m\n\u001b[0;31mIndentationError\u001b[0m\u001b[0;31m:\u001b[0m expected an indented block after 'if' statement on line 2\n"
          ]
        }
      ]
    },
    {
      "cell_type": "markdown",
      "source": [
        "### Iterative Structures"
      ],
      "metadata": {
        "id": "8pef_rm6aJzT"
      }
    },
    {
      "cell_type": "code",
      "source": [
        "birthday = int(input(\"Enter the age you are turning this year: \"))\n",
        "x = 1\n",
        "while x <= birthday:\n",
        "  print(\"Happy birthday!\")\n",
        "  x+=1"
      ],
      "metadata": {
        "id": "L8LlTWrxaI8l",
        "colab": {
          "base_uri": "https://localhost:8080/"
        },
        "outputId": "23539c90-cc00-4e3d-c881-cd83c32601c9"
      },
      "execution_count": null,
      "outputs": [
        {
          "output_type": "stream",
          "name": "stdout",
          "text": [
            "Enter the age you are turning this year: 12\n",
            "Happy birthday!\n",
            "Happy birthday!\n",
            "Happy birthday!\n",
            "Happy birthday!\n",
            "Happy birthday!\n",
            "Happy birthday!\n",
            "Happy birthday!\n",
            "Happy birthday!\n",
            "Happy birthday!\n",
            "Happy birthday!\n",
            "Happy birthday!\n",
            "Happy birthday!\n"
          ]
        }
      ]
    },
    {
      "cell_type": "code",
      "source": [
        "# note how variables in colab can be reused throughout the document.\n",
        "for x in range(0, birthday, 1):\n",
        "  print(\"Happy birthday!\")"
      ],
      "metadata": {
        "id": "zVw8HHj0ar93",
        "colab": {
          "base_uri": "https://localhost:8080/"
        },
        "outputId": "eee12bf2-db96-4a53-d556-b83b4ff036cf"
      },
      "execution_count": null,
      "outputs": [
        {
          "output_type": "stream",
          "name": "stdout",
          "text": [
            "Happy birthday!\n",
            "Happy birthday!\n",
            "Happy birthday!\n",
            "Happy birthday!\n",
            "Happy birthday!\n",
            "Happy birthday!\n",
            "Happy birthday!\n",
            "Happy birthday!\n",
            "Happy birthday!\n",
            "Happy birthday!\n",
            "Happy birthday!\n",
            "Happy birthday!\n"
          ]
        }
      ]
    },
    {
      "cell_type": "markdown",
      "source": [
        "### Functions"
      ],
      "metadata": {
        "id": "g9iFZ2ENbDMD"
      }
    },
    {
      "cell_type": "code",
      "source": [
        "def compliment(choice):\n",
        "  if choice == 1:\n",
        "    print(\"You're doing great! :)\")\n",
        "  else:\n",
        "    print(\"Have a great day! :D\")\n",
        "\n",
        "option = int(input(\"Enter any number: \"))\n",
        "compliment(option)"
      ],
      "metadata": {
        "id": "4eay5JHSbCly"
      },
      "execution_count": null,
      "outputs": []
    },
    {
      "cell_type": "markdown",
      "source": [
        "### Arrays"
      ],
      "metadata": {
        "id": "ju77YSKfbmd5"
      }
    },
    {
      "cell_type": "code",
      "source": [
        "nbo_roads = [\"Mombasa Road\", \"Thika Superhighway\"]\n",
        "print(nbo_roads[0])\n",
        "\n",
        "nbo_roads.append(\"Jogoo Road\")\n",
        "print(nbo_roads)\n",
        "\n",
        "print(\"Number of roads: \", len(nbo_roads))"
      ],
      "metadata": {
        "id": "uFEomwwqbn6x",
        "colab": {
          "base_uri": "https://localhost:8080/"
        },
        "outputId": "4b6d409e-3377-4279-feff-82298895a53a"
      },
      "execution_count": null,
      "outputs": [
        {
          "output_type": "stream",
          "name": "stdout",
          "text": [
            "Mombasa Road\n",
            "['Mombasa Road', 'Thika Superhighway', 'Jogoo Road']\n",
            "Number of roads:  3\n"
          ]
        }
      ]
    }
  ]
}